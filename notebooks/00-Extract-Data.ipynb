{
 "cells": [
  {
   "cell_type": "markdown",
   "id": "019d3438-a4ee-4be9-b193-c6d249fb70ad",
   "metadata": {
    "tags": []
   },
   "source": [
    "# **1. Ectract Data**"
   ]
  },
  {
   "cell_type": "markdown",
   "id": "b1c7dbf7-c734-442d-bd34-0daf5505f884",
   "metadata": {
    "id": "zdXG39xDXIdu"
   },
   "source": [
    "#### Importing libraries"
   ]
  },
  {
   "cell_type": "code",
   "execution_count": null,
   "id": "a9b9b2b2-d1e0-414c-8862-44217bf04b11",
   "metadata": {
    "id": "cfHDOLxfXK6v"
   },
   "outputs": [],
   "source": [
    "!pip install kagglehub\n",
    "!pip install ipywidgets"
   ]
  },
  {
   "cell_type": "code",
   "execution_count": 3,
   "id": "dcf7ca03",
   "metadata": {},
   "outputs": [
    {
     "data": {
      "application/vnd.jupyter.widget-view+json": {
       "model_id": "80d4bf80d4dc4c7aa03a2c2277813f41",
       "version_major": 2,
       "version_minor": 0
      },
      "text/plain": [
       "VBox(children=(HTML(value='<center> <img\\nsrc=https://www.kaggle.com/static/images/site-logo.png\\nalt=\\'Kaggle…"
      ]
     },
     "metadata": {},
     "output_type": "display_data"
    },
    {
     "name": "stdout",
     "output_type": "stream",
     "text": [
      "Kaggle credentials set.\n",
      "Kaggle credentials successfully validated.\n"
     ]
    }
   ],
   "source": [
    "import kagglehub\n",
    "\n",
    "kagglehub.login()"
   ]
  },
  {
   "cell_type": "code",
   "execution_count": 5,
   "id": "27d59f18",
   "metadata": {},
   "outputs": [
    {
     "name": "stdout",
     "output_type": "stream",
     "text": [
      "Downloading from https://www.kaggle.com/api/v1/datasets/download/mlg-ulb/creditcardfraud?dataset_version_number=3...\n"
     ]
    },
    {
     "name": "stderr",
     "output_type": "stream",
     "text": [
      "  0%|          | 0.00/66.0M [00:00<?, ?B/s]"
     ]
    },
    {
     "name": "stderr",
     "output_type": "stream",
     "text": [
      "100%|██████████| 66.0M/66.0M [00:00<00:00, 172MB/s] "
     ]
    },
    {
     "name": "stdout",
     "output_type": "stream",
     "text": [
      "Extracting files...\n"
     ]
    },
    {
     "name": "stderr",
     "output_type": "stream",
     "text": [
      "\n"
     ]
    },
    {
     "name": "stdout",
     "output_type": "stream",
     "text": [
      "Path to dataset files: /home/codespace/.cache/kagglehub/datasets/mlg-ulb/creditcardfraud/versions/3\n"
     ]
    }
   ],
   "source": [
    "import kagglehub\n",
    "\n",
    "# Download latest version\n",
    "path = kagglehub.dataset_download(\"mlg-ulb/creditcardfraud\")\n",
    "\n",
    "print(\"Path to dataset files:\", path)"
   ]
  },
  {
   "cell_type": "code",
   "execution_count": 6,
   "id": "02380fde",
   "metadata": {},
   "outputs": [],
   "source": [
    "%%bash\n",
    "mv /home/codespace/.cache/kagglehub/datasets/mlg-ulb/creditcardfraud/versions/3 /workspaces/anomaly-detection/data/raw"
   ]
  },
  {
   "cell_type": "code",
   "execution_count": 1,
   "id": "4614a665",
   "metadata": {},
   "outputs": [],
   "source": [
    "import pandas as pd\n",
    "\n",
    "df = pd.read_csv(\"/workspaces/anomaly-detection/data/raw/3/creditcard.csv\") "
   ]
  },
  {
   "cell_type": "code",
   "execution_count": 3,
   "id": "89a3ce40",
   "metadata": {},
   "outputs": [],
   "source": [
    "for col in df.columns:\n",
    "    miss = df[col].isna().sum()\n",
    "    if miss > 0:\n",
    "        percent_missing = (miss / len(df)) * 100\n",
    "        print(f\"La columna {col} tiene un total de {miss} valores faltantes, que representa el {percent_missing:.2f}%\")"
   ]
  },
  {
   "cell_type": "markdown",
   "id": "cb014400-a4cb-44dd-8988-e0a6826f1b27",
   "metadata": {},
   "source": [
    "The dataset is from [Kaggle](https://www.kaggle.com/datasets/mlg-ulb/creditcardfraud), collected and analysed by the Machine Learning Group of ULB (Université Libre de Bruxelles)"
   ]
  }
 ],
 "metadata": {
  "kernelspec": {
   "display_name": "eda_env",
   "language": "python",
   "name": "python3"
  },
  "language_info": {
   "codemirror_mode": {
    "name": "ipython",
    "version": 3
   },
   "file_extension": ".py",
   "mimetype": "text/x-python",
   "name": "python",
   "nbconvert_exporter": "python",
   "pygments_lexer": "ipython3",
   "version": "3.12.8"
  }
 },
 "nbformat": 4,
 "nbformat_minor": 5
}
