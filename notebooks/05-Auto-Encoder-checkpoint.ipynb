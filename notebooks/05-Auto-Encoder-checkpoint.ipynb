{
 "cells": [
  {
   "cell_type": "code",
   "execution_count": 1,
   "id": "829caf0c-355f-49ec-95cd-792ce9ac7ae4",
   "metadata": {},
   "outputs": [],
   "source": [
    "import pandas as pd\n",
    "import numpy as np\n",
    "from scipy import stats\n",
    "import matplotlib.pyplot as plt\n",
    "%matplotlib inline\n",
    "import seaborn as sns\n",
    "sns.set(style=\"whitegrid\")\n",
    "\n",
    "# pre-processing\n",
    "from sklearn.model_selection import train_test_split, GridSearchCV\n",
    "from sklearn.preprocessing import StandardScaler\n",
    "from sklearn.compose import ColumnTransformer\n",
    "\n",
    "# classification models\n",
    "from sklearn.ensemble import IsolationForest\n",
    "from sklearn.neighbors import LocalOutlierFactor\n",
    "from sklearn.mixture import GaussianMixture\n",
    "\n",
    "# performance metrics\n",
    "from sklearn.metrics import accuracy_score, precision_score, recall_score, f1_score, roc_auc_score, confusion_matrix, classification_report, make_scorer\n",
    "from sklearn.metrics import auc, roc_curve, precision_recall_curve, average_precision_score, PrecisionRecallDisplay, plot_precision_recall_curve\n",
    "np.random.seed(23)\n",
    "\n",
    "import tensorflow as tf\n",
    "from tensorflow.keras.models import Model"
   ]
  },
  {
   "cell_type": "code",
   "execution_count": 2,
   "id": "ca72ce74-9f80-4b83-9009-36297e28dfc1",
   "metadata": {},
   "outputs": [],
   "source": [
    "raw_data = pd.read_csv('data/creditcard.csv')\n",
    "\n",
    "# Stratified Random Sampling\n",
    "X_train_strat = pd.read_csv('data/stratified_random_sampling/X_train_strat.csv')\n",
    "X_test_strat = pd.read_csv('data/stratified_random_sampling/X_test_strat.csv')\n",
    "y_train_strat = pd.read_csv('data/stratified_random_sampling/y_train_strat.csv')\n",
    "y_test_strat = pd.read_csv('data/stratified_random_sampling/y_test_strat.csv')\n",
    "\n",
    "# Over Sampling\n",
    "X_train_os = pd.read_csv('data/over_sampling/X_train_os.csv')\n",
    "X_test_os = pd.read_csv('data/over_sampling/X_test_os.csv')\n",
    "y_train_os = pd.read_csv('data/over_sampling/y_train_os.csv')\n",
    "y_test_os = pd.read_csv('data/over_sampling/y_test_os.csv')\n",
    "\n",
    "# Over Sampling with SMOTE\n",
    "X_train_smote = pd.read_csv('data/over_sampling_smote/X_train_smote.csv')\n",
    "X_test_smote = pd.read_csv('data/over_sampling_smote/X_test_smote.csv')\n",
    "y_train_smote = pd.read_csv('data/over_sampling_smote/y_train_smote.csv')\n",
    "y_test_smote = pd.read_csv('data/over_sampling_smote/y_test_smote.csv')"
   ]
  },
  {
   "cell_type": "code",
   "execution_count": 3,
   "id": "fdddcb3d-7b13-4542-8847-8eeab7e4197e",
   "metadata": {},
   "outputs": [],
   "source": [
    "def get_predictions(model, x_test_scaled, threshold):\n",
    "    \n",
    "    predictions = model.predict(x_test_scaled)\n",
    "\n",
    "    # provides losses of individual instances\n",
    "    errors = tf.keras.losses.mae(predictions, x_test_scaled)\n",
    "    \n",
    "    # 1 = anomaly, 0 = normal\n",
    "    \n",
    "    anomaly_mask = pd.Series(errors) > threshold\n",
    "    preds = anomaly_mask.map(lambda x: 1.0 if x == True else 0.0)\n",
    "    return preds"
   ]
  },
  {
   "cell_type": "markdown",
   "id": "e2634429-00d0-460d-8367-501339c9ca69",
   "metadata": {},
   "source": [
    "## 1. 30->16->8->4"
   ]
  },
  {
   "cell_type": "code",
   "execution_count": 22,
   "id": "52cc900c-e70a-4f0a-8efc-a855f787f5d8",
   "metadata": {},
   "outputs": [],
   "source": [
    "# 30 -> 25 -> 20 -> 15\n",
    "class AutoEncoder(Model):\n",
    "    \n",
    "    def __init__(self):\n",
    "    \n",
    "        super(AutoEncoder, self).__init__()\n",
    "        \n",
    "        self.encoder = tf.keras.Sequential([\n",
    "                       tf.keras.layers.Dense(24, activation=\"relu\"),\n",
    "                       tf.keras.layers.Dense(16, activation=\"relu\"),\n",
    "                       tf.keras.layers.Dense(8, activation=\"relu\"),\n",
    "                       tf.keras.layers.Dense(4, activation=\"relu\"), \n",
    "                       ])\n",
    "        \n",
    "        self.decoder = tf.keras.Sequential([\n",
    "                       tf.keras.layers.Dense(8, activation=\"relu\"),\n",
    "                       tf.keras.layers.Dense(16, activation=\"relu\"),\n",
    "                       tf.keras.layers.Dense(24, activation=\"relu\"),\n",
    "                       tf.keras.layers.Dense(30, activation=\"sigmoid\")\n",
    "              ])\n",
    "        \n",
    "    def call(self, x):\n",
    "        encoded = self.encoder(x)\n",
    "        decoded = self.decoder(encoded)\n",
    "        return decoded"
   ]
  },
  {
   "cell_type": "code",
   "execution_count": 23,
   "id": "2309aa56-5846-4efb-82f7-2988d1ca056a",
   "metadata": {},
   "outputs": [
    {
     "name": "stdout",
     "output_type": "stream",
     "text": [
      "X_train_smote.shape=(398040, 30)\n",
      "X_train_os.shape=(492, 30)\n",
      "normal_train_data.shape=(199020, 30)\n",
      "anomaly_test_data.shape=(148, 30)\n",
      "Epoch 1/50\n",
      "1659/1659 [==============================] - 3s 2ms/step - loss: 0.6397 - val_loss: 0.6180\n",
      "Epoch 2/50\n",
      "1659/1659 [==============================] - 2s 1ms/step - loss: 0.6066 - val_loss: 0.6044\n",
      "Epoch 3/50\n",
      "1659/1659 [==============================] - 2s 1ms/step - loss: 0.5980 - val_loss: 0.6003\n",
      "Epoch 4/50\n",
      "1659/1659 [==============================] - 2s 1ms/step - loss: 0.5956 - val_loss: 0.5986\n",
      "Epoch 5/50\n",
      "1659/1659 [==============================] - 2s 2ms/step - loss: 0.5940 - val_loss: 0.5981\n",
      "Epoch 6/50\n",
      "1659/1659 [==============================] - 2s 1ms/step - loss: 0.5927 - val_loss: 0.5957\n",
      "Epoch 7/50\n",
      "1659/1659 [==============================] - 2s 1ms/step - loss: 0.5913 - val_loss: 0.5949\n",
      "Epoch 8/50\n",
      "1659/1659 [==============================] - 2s 1ms/step - loss: 0.5902 - val_loss: 0.5935\n",
      "Epoch 9/50\n",
      "1659/1659 [==============================] - 2s 1ms/step - loss: 0.5887 - val_loss: 0.5915\n",
      "Epoch 10/50\n",
      "1659/1659 [==============================] - 2s 1ms/step - loss: 0.5871 - val_loss: 0.5906\n",
      "Epoch 11/50\n",
      "1659/1659 [==============================] - 2s 1ms/step - loss: 0.5864 - val_loss: 0.5900\n",
      "Epoch 12/50\n",
      "1659/1659 [==============================] - 2s 1ms/step - loss: 0.5858 - val_loss: 0.5897\n",
      "Epoch 13/50\n",
      "1659/1659 [==============================] - 2s 1ms/step - loss: 0.5854 - val_loss: 0.5891\n",
      "Epoch 14/50\n",
      "1659/1659 [==============================] - 2s 1ms/step - loss: 0.5851 - val_loss: 0.5889\n",
      "Epoch 15/50\n",
      "1659/1659 [==============================] - 2s 1ms/step - loss: 0.5847 - val_loss: 0.5884\n",
      "Epoch 16/50\n",
      "1659/1659 [==============================] - 2s 1ms/step - loss: 0.5844 - val_loss: 0.5880\n",
      "Epoch 17/50\n",
      "1659/1659 [==============================] - 2s 1ms/step - loss: 0.5841 - val_loss: 0.5880\n",
      "Epoch 18/50\n",
      "1659/1659 [==============================] - 2s 1ms/step - loss: 0.5839 - val_loss: 0.5876\n",
      "Epoch 19/50\n",
      "1659/1659 [==============================] - 2s 1ms/step - loss: 0.5835 - val_loss: 0.5874\n",
      "Epoch 20/50\n",
      "1659/1659 [==============================] - 2s 1ms/step - loss: 0.5831 - val_loss: 0.5866\n",
      "Epoch 21/50\n",
      "1659/1659 [==============================] - 2s 1ms/step - loss: 0.5821 - val_loss: 0.5851\n",
      "Epoch 22/50\n",
      "1659/1659 [==============================] - 2s 1ms/step - loss: 0.5808 - val_loss: 0.5841\n",
      "Epoch 23/50\n",
      "1659/1659 [==============================] - 2s 1ms/step - loss: 0.5797 - val_loss: 0.5830\n",
      "Epoch 24/50\n",
      "1659/1659 [==============================] - 3s 2ms/step - loss: 0.5788 - val_loss: 0.5823\n",
      "Epoch 25/50\n",
      "1659/1659 [==============================] - 2s 1ms/step - loss: 0.5781 - val_loss: 0.5816\n",
      "Epoch 26/50\n",
      "1659/1659 [==============================] - 3s 2ms/step - loss: 0.5776 - val_loss: 0.5814\n",
      "Epoch 27/50\n",
      "1659/1659 [==============================] - 2s 1ms/step - loss: 0.5771 - val_loss: 0.5809\n",
      "Epoch 28/50\n",
      "1659/1659 [==============================] - 2s 1ms/step - loss: 0.5768 - val_loss: 0.5802\n",
      "Epoch 29/50\n",
      "1659/1659 [==============================] - 2s 1ms/step - loss: 0.5766 - val_loss: 0.5804\n",
      "Epoch 30/50\n",
      "1659/1659 [==============================] - 2s 1ms/step - loss: 0.5762 - val_loss: 0.5801\n",
      "Epoch 31/50\n",
      "1659/1659 [==============================] - 2s 1ms/step - loss: 0.5760 - val_loss: 0.5807\n",
      "Epoch 32/50\n",
      "1659/1659 [==============================] - 2s 1ms/step - loss: 0.5757 - val_loss: 0.5797\n",
      "Epoch 33/50\n",
      "1659/1659 [==============================] - 2s 1ms/step - loss: 0.5753 - val_loss: 0.5791\n",
      "Epoch 34/50\n",
      "1659/1659 [==============================] - 2s 1ms/step - loss: 0.5748 - val_loss: 0.5786\n",
      "Epoch 35/50\n",
      "1659/1659 [==============================] - 2s 1ms/step - loss: 0.5744 - val_loss: 0.5781\n",
      "Epoch 36/50\n",
      "1659/1659 [==============================] - 2s 1ms/step - loss: 0.5740 - val_loss: 0.5781\n",
      "Epoch 37/50\n",
      "1659/1659 [==============================] - 2s 1ms/step - loss: 0.5737 - val_loss: 0.5772\n",
      "Epoch 38/50\n",
      "1659/1659 [==============================] - 2s 1ms/step - loss: 0.5732 - val_loss: 0.5767\n",
      "Epoch 39/50\n",
      "1659/1659 [==============================] - 2s 1ms/step - loss: 0.5728 - val_loss: 0.5779\n",
      "Epoch 40/50\n",
      "1659/1659 [==============================] - 2s 1ms/step - loss: 0.5720 - val_loss: 0.5753\n",
      "Epoch 41/50\n",
      "1659/1659 [==============================] - 2s 1ms/step - loss: 0.5711 - val_loss: 0.5754\n",
      "Epoch 42/50\n",
      "1659/1659 [==============================] - 2s 1ms/step - loss: 0.5709 - val_loss: 0.5743\n",
      "Epoch 43/50\n",
      "1659/1659 [==============================] - 2s 1ms/step - loss: 0.5704 - val_loss: 0.5739\n",
      "Epoch 44/50\n",
      "1659/1659 [==============================] - 2s 1ms/step - loss: 0.5699 - val_loss: 0.5736\n",
      "Epoch 45/50\n",
      "1659/1659 [==============================] - 2s 1ms/step - loss: 0.5696 - val_loss: 0.5735\n",
      "Epoch 46/50\n",
      "1659/1659 [==============================] - 2s 1ms/step - loss: 0.5693 - val_loss: 0.5732\n",
      "Epoch 47/50\n",
      "1659/1659 [==============================] - 2s 1ms/step - loss: 0.5692 - val_loss: 0.5736\n",
      "Epoch 48/50\n",
      "1659/1659 [==============================] - 2s 1ms/step - loss: 0.5689 - val_loss: 0.5727\n",
      "Epoch 49/50\n",
      "1659/1659 [==============================] - 2s 1ms/step - loss: 0.5685 - val_loss: 0.5722\n",
      "Epoch 50/50\n",
      "1659/1659 [==============================] - 2s 1ms/step - loss: 0.5686 - val_loss: 0.5723\n"
     ]
    }
   ],
   "source": [
    "normal_train_data = X_train_strat[y_train_strat['Class'] == 0]\n",
    "anomaly_train_data = X_train_strat[y_train_strat['Class'] == 1]\n",
    "normal_test_data = X_test_strat[y_test_strat['Class'] == 0]\n",
    "anomaly_test_data = X_test_strat[y_test_strat['Class'] == 1]\n",
    "\n",
    "print(f'{X_train_smote.shape=}')\n",
    "print(f'{X_train_os.shape=}')\n",
    "print(f'{normal_train_data.shape=}')\n",
    "print(f'{anomaly_test_data.shape=}')\n",
    "\n",
    "model = AutoEncoder()\n",
    "\n",
    "early_stopping = tf.keras.callbacks.EarlyStopping(monitor=\"val_loss\", patience=5, mode=\"min\")\n",
    "\n",
    "model.compile(optimizer='adam', loss=\"mae\")\n",
    "\n",
    "history = model.fit(normal_train_data, normal_train_data, epochs=50, batch_size=120,\n",
    "                    validation_data=(X_train_strat, X_train_strat),\n",
    "                    shuffle=True,\n",
    "                    callbacks=[early_stopping]\n",
    "                    )"
   ]
  },
  {
   "cell_type": "code",
   "execution_count": 24,
   "id": "8c183698-f921-4aa3-a684-f4232d7ee12f",
   "metadata": {},
   "outputs": [
    {
     "name": "stdout",
     "output_type": "stream",
     "text": [
      "6220/6220 [==============================] - 3s 553us/step\n",
      "11/11 [==============================] - 0s 600us/step\n"
     ]
    },
    {
     "data": {
      "image/png": "[encoded data removed]",
      "text/plain": [
       "<Figure size 432x288 with 1 Axes>"
      ]
     },
     "metadata": {},
     "output_type": "display_data"
    }
   ],
   "source": [
    "reconstruction = model.predict(normal_train_data)\n",
    "train_loss = tf.keras.losses.mae(reconstruction, normal_train_data)\n",
    "\n",
    "threshold = np.mean(train_loss) + 2*np.std(train_loss)\n",
    "\n",
    "reconstruction_a = model.predict(anomaly_train_data)\n",
    "train_loss_a = tf.keras.losses.mae(reconstruction_a, anomaly_train_data)\n",
    "\n",
    "plt.hist(train_loss, bins=50, label='normal')\n",
    "plt.hist(train_loss_a, bins=50, label='anomaly')\n",
    "plt.axvline(threshold, color='r', linewidth=3, linestyle='dashed', label='{:0.3f}'.format(threshold))\n",
    "plt.legend(loc='upper right')\n",
    "plt.title(\"Normal and Anomaly Loss\")\n",
    "plt.show()"
   ]
  },
  {
   "cell_type": "code",
   "execution_count": 25,
   "id": "2c1f84da-8a29-47f6-a90d-f90aa1a31231",
   "metadata": {},
   "outputs": [
    {
     "data": {
      "text/plain": [
       "(0.15906300169697668,\n",
       " 0.5683449522758797,\n",
       " 26.59347391081269,\n",
       " 0.9276422068984718)"
      ]
     },
     "execution_count": 25,
     "metadata": {},
     "output_type": "execute_result"
    }
   ],
   "source": [
    "np.min(train_loss), np.mean(train_loss), np.max(train_loss), stats.mode(train_loss, keepdims=False)[0]"
   ]
  },
  {
   "cell_type": "code",
   "execution_count": 26,
   "id": "7b563f9a-2714-4826-8ecb-922c79bf696d",
   "metadata": {},
   "outputs": [
    {
     "data": {
      "text/plain": [
       "array([0.40506984, 0.51719436, 0.64209041, 0.80731966, 0.98694901,\n",
       "       1.79611168])"
      ]
     },
     "execution_count": 26,
     "metadata": {},
     "output_type": "execute_result"
    }
   ],
   "source": [
    "np.quantile(train_loss, [0.25, 0.50, 0.75, 0.90, 0.95, 0.99])"
   ]
  },
  {
   "cell_type": "code",
   "execution_count": 27,
   "id": "3dec1346-ee82-488d-ab63-c1dfb621f398",
   "metadata": {},
   "outputs": [
    {
     "data": {
      "text/plain": [
       "(0.8907242575948341, 1.2131035629137885)"
      ]
     },
     "execution_count": 27,
     "metadata": {},
     "output_type": "execute_result"
    }
   ],
   "source": [
    "np.mean(train_loss) + np.std(train_loss), np.mean(train_loss) + 2*np.std(train_loss)"
   ]
  },
  {
   "cell_type": "code",
   "execution_count": 28,
   "id": "470730ba-4a81-42fa-9b6b-ee172170f252",
   "metadata": {},
   "outputs": [
    {
     "data": {
      "text/plain": [
       "(0.24621159070789803, 2.8857397732792247, 10.99046724611655, 6.590757320204061)"
      ]
     },
     "execution_count": 28,
     "metadata": {},
     "output_type": "execute_result"
    }
   ],
   "source": [
    "np.min(train_loss_a), np.mean(train_loss_a), np.max(train_loss_a), stats.mode(train_loss_a, keepdims=False)[0]"
   ]
  },
  {
   "cell_type": "code",
   "execution_count": 29,
   "id": "0f0f87a1-3ed1-4fa3-aa4c-513704ef1ef0",
   "metadata": {},
   "outputs": [],
   "source": [
    "threshold0 = np.mean(train_loss)\n",
    "threshold1 = np.mean(train_loss) + 1*np.std(train_loss)\n",
    "threshold2 = np.mean(train_loss) + 2*np.std(train_loss)"
   ]
  },
  {
   "cell_type": "code",
   "execution_count": 30,
   "id": "9d8e7cb0-d226-4157-aff1-86b98cf3da64",
   "metadata": {},
   "outputs": [
    {
     "data": {
      "text/plain": [
       "array([0.60666233, 0.88984143, 1.39162352, 1.48257383, 2.1914882 ,\n",
       "       3.58083033, 6.15956656, 6.51741507, 8.35528457])"
      ]
     },
     "execution_count": 30,
     "metadata": {},
     "output_type": "execute_result"
    }
   ],
   "source": [
    "np.quantile(train_loss_a, [0.05, 0.1, 0.2, 0.25, 0.50, 0.75, 0.90, 0.95, 0.99])"
   ]
  },
  {
   "cell_type": "code",
   "execution_count": 31,
   "id": "5c9dcc3b-2028-441d-8607-f6fb4d318f5a",
   "metadata": {},
   "outputs": [
    {
     "name": "stdout",
     "output_type": "stream",
     "text": [
      "Threshold: 0.5683449522758797\n",
      "2671/2671 [==============================] - 1s 556us/step\n",
      "[[52177 33118]\n",
      " [    9   139]]\n",
      "              precision    recall  f1-score   support\n",
      "\n",
      "           0       1.00      0.61      0.76     85295\n",
      "           1       0.00      0.94      0.01       148\n",
      "\n",
      "    accuracy                           0.61     85443\n",
      "   macro avg       0.50      0.78      0.38     85443\n",
      "weighted avg       1.00      0.61      0.76     85443\n",
      "\n",
      "0.4717370468937134\n"
     ]
    }
   ],
   "source": [
    "print(f\"Threshold: {threshold0}\")\n",
    "\n",
    "predictions = get_predictions(model, X_test_strat, threshold0)\n",
    "\n",
    "print(confusion_matrix(y_test_strat, predictions))# Accuracy\n",
    "print(classification_report(y_test_strat, predictions))\n",
    "\n",
    "# Data to plot precision - recall curve\n",
    "precision, recall, thresholds = precision_recall_curve(y_test_strat, predictions)\n",
    "# Use AUC function to calculate the area under the curve of precision recall curve\n",
    "auc_precision_recall = auc(recall, precision)\n",
    "print(auc_precision_recall)"
   ]
  },
  {
   "cell_type": "code",
   "execution_count": 32,
   "id": "0a52b14b-61ac-4c5b-b1ee-dbf56408c212",
   "metadata": {},
   "outputs": [
    {
     "data": {
      "text/plain": [
       "[<matplotlib.lines.Line2D at 0x16222809b50>]"
      ]
     },
     "execution_count": 32,
     "metadata": {},
     "output_type": "execute_result"
    },
    {
     "data": {
      "image/png": "[encoded data removed]",
      "text/plain": [
       "<Figure size 432x288 with 1 Axes>"
      ]
     },
     "metadata": {},
     "output_type": "display_data"
    }
   ],
   "source": [
    "plt.plot(train_loss)"
   ]
  },
  {
   "cell_type": "code",
   "execution_count": 33,
   "id": "f8ea3f70-4488-4d9c-8550-d6460d38b518",
   "metadata": {},
   "outputs": [
    {
     "name": "stdout",
     "output_type": "stream",
     "text": [
      "Threshold: 0.8907242575948341\n",
      "2671/2671 [==============================] - 1s 555us/step\n",
      "[[79375  5920]\n",
      " [   22   126]]\n",
      "              precision    recall  f1-score   support\n",
      "\n",
      "           0       1.00      0.93      0.96     85295\n",
      "           1       0.02      0.85      0.04       148\n",
      "\n",
      "    accuracy                           0.93     85443\n",
      "   macro avg       0.51      0.89      0.50     85443\n",
      "weighted avg       1.00      0.93      0.96     85443\n",
      "\n",
      "0.43622452894468977\n"
     ]
    }
   ],
   "source": [
    "print(f\"Threshold: {threshold1}\")\n",
    "\n",
    "predictions = get_predictions(model, X_test_strat, threshold1)\n",
    "\n",
    "print(confusion_matrix(y_test_strat, predictions))# Accuracy\n",
    "print(classification_report(y_test_strat, predictions))\n",
    "\n",
    "# Data to plot precision - recall curve\n",
    "precision, recall, thresholds = precision_recall_curve(y_test_strat, predictions)\n",
    "# Use AUC function to calculate the area under the curve of precision recall curve\n",
    "auc_precision_recall = auc(recall, precision)\n",
    "print(auc_precision_recall)"
   ]
  },
  {
   "cell_type": "code",
   "execution_count": 34,
   "id": "743c3fea-0010-4cb7-9e40-ab798e36b233",
   "metadata": {},
   "outputs": [
    {
     "name": "stdout",
     "output_type": "stream",
     "text": [
      "Threshold: 1.2131035629137885\n",
      "2671/2671 [==============================] - 2s 562us/step\n",
      "[[82818  2477]\n",
      " [   28   120]]\n",
      "              precision    recall  f1-score   support\n",
      "\n",
      "           0       1.00      0.97      0.99     85295\n",
      "           1       0.05      0.81      0.09       148\n",
      "\n",
      "    accuracy                           0.97     85443\n",
      "   macro avg       0.52      0.89      0.54     85443\n",
      "weighted avg       1.00      0.97      0.98     85443\n",
      "\n",
      "0.42867283838514386\n"
     ]
    }
   ],
   "source": [
    "print(f\"Threshold: {threshold2}\")\n",
    "\n",
    "predictions = get_predictions(model, X_test_strat, threshold2)\n",
    "\n",
    "print(confusion_matrix(y_test_strat, predictions))# Accuracy\n",
    "print(classification_report(y_test_strat, predictions))\n",
    "\n",
    "# Data to plot precision - recall curve\n",
    "precision, recall, thresholds = precision_recall_curve(y_test_strat, predictions)\n",
    "# Use AUC function to calculate the area under the curve of precision recall curve\n",
    "auc_precision_recall = auc(recall, precision)\n",
    "print(auc_precision_recall)"
   ]
  },
  {
   "cell_type": "code",
   "execution_count": 41,
   "id": "1f53ddcb-7306-4610-91a2-fc4a253b37b0",
   "metadata": {},
   "outputs": [
    {
     "name": "stdout",
     "output_type": "stream",
     "text": [
      "Threshold: 0.9869490076908547\n",
      "2671/2671 [==============================] - 2s 560us/step\n",
      "[[81032  4263]\n",
      " [   26   122]]\n",
      "              precision    recall  f1-score   support\n",
      "\n",
      "           0       1.00      0.95      0.97     85295\n",
      "           1       0.03      0.82      0.05       148\n",
      "\n",
      "    accuracy                           0.95     85443\n",
      "   macro avg       0.51      0.89      0.51     85443\n",
      "weighted avg       1.00      0.95      0.97     85443\n",
      "\n",
      "0.42622537081122713\n"
     ]
    }
   ],
   "source": [
    "threshold3 = np.quantile(train_loss, 0.95)\n",
    "print(f\"Threshold: {threshold3}\")\n",
    "\n",
    "predictions = get_predictions(model, X_test_strat, threshold3)\n",
    "\n",
    "print(confusion_matrix(y_test_strat, predictions))# Accuracy\n",
    "print(classification_report(y_test_strat, predictions))\n",
    "\n",
    "# Data to plot precision - recall curve\n",
    "precision, recall, thresholds = precision_recall_curve(y_test_strat, predictions)\n",
    "\n",
    "# Use AUC function to calculate the area under the curve of precision recall curve\n",
    "auc_precision_recall = auc(recall, precision)\n",
    "print(auc_precision_recall)"
   ]
  },
  {
   "cell_type": "code",
   "execution_count": null,
   "id": "d20f5890-2b1f-4b61-8f1d-3f667cecb6ab",
   "metadata": {},
   "outputs": [],
   "source": []
  }
 ],
 "metadata": {
  "kernelspec": {
   "display_name": "Python 3 (ipykernel)",
   "language": "python",
   "name": "python3"
  },
  "language_info": {
   "codemirror_mode": {
    "name": "ipython",
    "version": 3
   },
   "file_extension": ".py",
   "mimetype": "text/x-python",
   "name": "python",
   "nbconvert_exporter": "python",
   "pygments_lexer": "ipython3",
   "version": "3.9.12"
  }
 },
 "nbformat": 4,
 "nbformat_minor": 5
}
