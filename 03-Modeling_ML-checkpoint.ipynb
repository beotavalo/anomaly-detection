{
 "cells": [
  {
   "cell_type": "markdown",
   "id": "abdcf430-03e3-48a1-b7fb-a3a642b901e9",
   "metadata": {
    "id": "7jLeBxZyGXVK"
   },
   "source": [
    "## **3. Model Selection and Implementation**\n"
   ]
  },
  {
   "cell_type": "markdown",
   "id": "86de0502-5ed9-47d3-9b76-3075c20b8e0a",
   "metadata": {
    "id": "zdXG39xDXIdu"
   },
   "source": [
    "#### Importing libraries"
   ]
  },
  {
   "cell_type": "code",
   "execution_count": 1,
   "id": "33ba4732-b4d2-42fa-a42e-15e1638c213e",
   "metadata": {
    "id": "cfHDOLxfXK6v"
   },
   "outputs": [],
   "source": [
    "import pandas as pd\n",
    "import numpy as np\n",
    "\n",
    "import matplotlib.pyplot as plt\n",
    "%matplotlib inline\n",
    "import seaborn as sns\n",
    "sns.set(style=\"whitegrid\")\n",
    "\n",
    "# pre-processing\n",
    "from sklearn.model_selection import train_test_split, GridSearchCV\n",
    "from sklearn.preprocessing import StandardScaler\n",
    "from sklearn.compose import ColumnTransformer\n",
    "\n",
    "# over-sampling\n",
    "from imblearn.over_sampling import SMOTE\n",
    "\n",
    "# classification models\n",
    "from sklearn.linear_model import LogisticRegression\n",
    "from sklearn.neighbors import KNeighborsClassifier\n",
    "from sklearn.tree import DecisionTreeClassifier\n",
    "from sklearn import tree\n",
    "from sklearn.ensemble import RandomForestClassifier, IsolationForest\n",
    "\n",
    "# Neural Networks\n",
    "import tensorflow as tf\n",
    "from tensorflow.keras.models import Model, Sequential\n",
    "from tensorflow.keras.layers import Input, Dense\n",
    "from tensorflow.keras import layers, losses, regularizers\n",
    "\n",
    "# performance metrics\n",
    "from sklearn.metrics import accuracy_score, precision_score, recall_score, f1_score, roc_auc_score, confusion_matrix, classification_report, make_scorer\n",
    "from sklearn.metrics import auc, roc_curve, average_precision_score, PrecisionRecallDisplay, plot_precision_recall_curve\n",
    "from imblearn.metrics import classification_report_imbalanced\n",
    "np.random.seed(23)"
   ]
  },
  {
   "cell_type": "markdown",
   "id": "521e051d-4306-468f-a571-77e4c3fb3a5a",
   "metadata": {},
   "source": [
    "#### Loading data"
   ]
  },
  {
   "cell_type": "code",
   "execution_count": 2,
   "id": "be36c919-1ea6-4a53-a25e-0bfb1e1ea56f",
   "metadata": {},
   "outputs": [],
   "source": [
    "raw_data = pd.read_csv('data/creditcard.csv')\n",
    "\n",
    "# Stratified Random Sampling\n",
    "X_train_strat = pd.read_csv('data/stratified_random_sampling/X_train_strat.csv')\n",
    "X_test_strat = pd.read_csv('data/stratified_random_sampling/X_test_strat.csv')\n",
    "y_train_strat = pd.read_csv('data/stratified_random_sampling/y_train_strat.csv')\n",
    "y_test_strat = pd.read_csv('data/stratified_random_sampling/y_test_strat.csv')\n",
    "\n",
    "# Over Sampling\n",
    "X_train_os = pd.read_csv('data/over_sampling/X_train_os.csv')\n",
    "X_test_os = pd.read_csv('data/over_sampling/X_test_os.csv')\n",
    "y_train_os = pd.read_csv('data/over_sampling/y_train_os.csv')\n",
    "y_test_os = pd.read_csv('data/over_sampling/y_test_os.csv')\n",
    "\n",
    "# Over Sampling with SMOTE\n",
    "X_train_smote = pd.read_csv('data/over_sampling_smote/X_train_smote.csv')\n",
    "X_test_smote = pd.read_csv('data/over_sampling_smote/X_test_smote.csv')\n",
    "y_train_smote = pd.read_csv('data/over_sampling_smote/y_train_smote.csv')\n",
    "y_test_smote = pd.read_csv('data/over_sampling_smote/y_test_smote.csv')"
   ]
  },
  {
   "cell_type": "markdown",
   "id": "fc5445b8-27d4-45f0-a0c4-f92d445d383f",
   "metadata": {
    "id": "jCEZxO6uHlkG"
   },
   "source": [
    "### 3.1 Logistic Regression"
   ]
  },
  {
   "cell_type": "markdown",
   "id": "81a37a3e-7fae-4f9e-a290-3854fd2532d0",
   "metadata": {
    "id": "pDlMKLIP8R8J"
   },
   "source": [
    "###### 3.1.1 Stratified Random Sampling"
   ]
  },
  {
   "cell_type": "code",
   "execution_count": 3,
   "id": "6a4fb482-37eb-4379-8c3c-82c16caef623",
   "metadata": {
    "colab": {
     "base_uri": "https://localhost:8080/"
    },
    "id": "wkDiwSNE8V8O",
    "outputId": "19cf2413-4ce9-4e95-d080-07f808bf1dfa"
   },
   "outputs": [
    {
     "name": "stdout",
     "output_type": "stream",
     "text": [
      "Confusion Matrix\n",
      "[[85284    11]\n",
      " [   54    94]]\n",
      "              precision    recall  f1-score   support\n",
      "\n",
      "           0       1.00      1.00      1.00     85295\n",
      "           1       0.90      0.64      0.74       148\n",
      "\n",
      "    accuracy                           1.00     85443\n",
      "   macro avg       0.95      0.82      0.87     85443\n",
      "weighted avg       1.00      1.00      1.00     85443\n",
      "\n"
     ]
    }
   ],
   "source": [
    "logreg1 = LogisticRegression() # instantiate the Logistic Regression classifier\n",
    "\n",
    "clf1 = logreg1.fit(X_train_strat, y_train_strat['Class']) # fit the classifier to the imbalanced data\n",
    "pred1 = clf1.predict(X_test_strat) # predict on the training data\n",
    "\n",
    "y_score1 = clf1.predict_proba(X_test_strat)[:, 1]\n",
    "\n",
    "# Confusion Matrix\n",
    "print(f'Confusion Matrix\\n{confusion_matrix(y_test_strat, pred1)}')# Accuracy\n",
    "print(classification_report(y_test_strat, pred1))"
   ]
  },
  {
   "cell_type": "markdown",
   "id": "88187cd8-e3d4-4a56-a31c-04b01e2d616b",
   "metadata": {
    "id": "8l5NvTGo8Xiv"
   },
   "source": [
    "#### 3.2.2 Over Sampling"
   ]
  },
  {
   "cell_type": "code",
   "execution_count": 4,
   "id": "792a521a-1c5d-405a-b2d1-47d0dc108b63",
   "metadata": {
    "id": "-DHT_1Qs8cHm"
   },
   "outputs": [
    {
     "name": "stdout",
     "output_type": "stream",
     "text": [
      "Confusion Matrix\n",
      "[[272835  11234]\n",
      " [    26    220]]\n",
      "              precision    recall  f1-score   support\n",
      "\n",
      "           0       1.00      0.96      0.98    284069\n",
      "           1       0.02      0.89      0.04       246\n",
      "\n",
      "    accuracy                           0.96    284315\n",
      "   macro avg       0.51      0.93      0.51    284315\n",
      "weighted avg       1.00      0.96      0.98    284315\n",
      "\n"
     ]
    }
   ],
   "source": [
    "logreg2 = LogisticRegression() # instantiate the Logistic Regression classifier\n",
    "\n",
    "clf2 = logreg2.fit(X_train_os, y_train_os['Class']) # fit the classifier to the imbalanced data\n",
    "pred2 = clf2.predict(X_test_os) # predict on the training data\n",
    "\n",
    "y_score2 = clf2.predict_proba(X_test_os)[:, 1]\n",
    "\n",
    "# Confusion Matrix\n",
    "print(f'Confusion Matrix\\n{confusion_matrix(y_test_os, pred2)}')# Accuracy\n",
    "print(classification_report(y_test_os, pred2))"
   ]
  },
  {
   "cell_type": "markdown",
   "id": "68b43f99-25da-4672-81a8-581ee3c284e4",
   "metadata": {
    "id": "3cGNgMLu8jVb"
   },
   "source": [
    "#### 3.2.3 Over Sampling(`SMOTE`)"
   ]
  },
  {
   "cell_type": "code",
   "execution_count": 5,
   "id": "9a3e0b84-4d89-44a4-b5cd-77db0ec84217",
   "metadata": {
    "id": "pt9VYWKt8j1x"
   },
   "outputs": [
    {
     "name": "stdout",
     "output_type": "stream",
     "text": [
      "[[83178  2117]\n",
      " [   19   129]]\n",
      "              precision    recall  f1-score   support\n",
      "\n",
      "           0       1.00      0.98      0.99     85295\n",
      "           1       0.06      0.87      0.11       148\n",
      "\n",
      "    accuracy                           0.98     85443\n",
      "   macro avg       0.53      0.92      0.55     85443\n",
      "weighted avg       1.00      0.98      0.99     85443\n",
      "\n"
     ]
    }
   ],
   "source": [
    "logreg3 = LogisticRegression() # instantiate the Logistic Regression classifier\n",
    "\n",
    "clf3 = logreg3.fit(X_train_smote, y_train_smote['Class']) # fit the classifier to the imbalanced data\n",
    "pred3 = clf3.predict(X_test_smote) # predict on the training data\n",
    "\n",
    "y_score3 = clf3.predict_proba(X_test_smote)[:, 1]\n",
    "\n",
    "# Confusion Matrix\n",
    "print(confusion_matrix(y_test_smote, pred3))# Accuracy\n",
    "print(classification_report(y_test_smote, pred3))"
   ]
  },
  {
   "cell_type": "markdown",
   "id": "34dc7ce2-9bc1-409d-ac0d-aae3950b5905",
   "metadata": {},
   "source": [
    "### Logistic Regression Summary:\n",
    "\n",
    "Logistic Regression classifier trained on\n",
    "- stratified random sampling: clf-1\n",
    "- over sampling (default): clf-2\n",
    "- over sampling (SMOTE): clf-3\n",
    "\n",
    "1. clf-1 seems to have best performance(AUPRC) among all 3 variants.\n",
    "2. clf-2 performs the worst. This is probably due to very less training data(only #246 samples for each class).\n",
    "3. clf-3 has higher recall than clf1 but has very less precision."
   ]
  },
  {
   "cell_type": "markdown",
   "id": "9cc3e3cd-a3bb-4abf-8462-7acfb247034a",
   "metadata": {
    "id": "6p3lWjlWcNKy"
   },
   "source": [
    "### 4.2 K-Nearest Neighbors"
   ]
  },
  {
   "cell_type": "markdown",
   "id": "495b7121-fc83-485e-91ad-b312897f686e",
   "metadata": {
    "id": "aLr3Sxuk96AX"
   },
   "source": [
    "#### 4.2.1 Stratified Random Sampling"
   ]
  },
  {
   "cell_type": "code",
   "execution_count": 6,
   "id": "7c54d1e8-321c-46ae-965b-d15be1ba1f2b",
   "metadata": {},
   "outputs": [
    {
     "name": "stdout",
     "output_type": "stream",
     "text": [
      "Fitting 3 folds for each of 15 candidates, totalling 45 fits\n",
      "CPU times: total: 234 ms\n",
      "Wall time: 3min 1s\n"
     ]
    },
    {
     "data": {
      "text/html": [
       "<style>#sk-container-id-1 {color: black;background-color: white;}#sk-container-id-1 pre{padding: 0;}#sk-container-id-1 div.sk-toggleable {background-color: white;}#sk-container-id-1 label.sk-toggleable__label {cursor: pointer;display: block;width: 100%;margin-bottom: 0;padding: 0.3em;box-sizing: border-box;text-align: center;}#sk-container-id-1 label.sk-toggleable__label-arrow:before {content: \"▸\";float: left;margin-right: 0.25em;color: #696969;}#sk-container-id-1 label.sk-toggleable__label-arrow:hover:before {color: black;}#sk-container-id-1 div.sk-estimator:hover label.sk-toggleable__label-arrow:before {color: black;}#sk-container-id-1 div.sk-toggleable__content {max-height: 0;max-width: 0;overflow: hidden;text-align: left;background-color: #f0f8ff;}#sk-container-id-1 div.sk-toggleable__content pre {margin: 0.2em;color: black;border-radius: 0.25em;background-color: #f0f8ff;}#sk-container-id-1 input.sk-toggleable__control:checked~div.sk-toggleable__content {max-height: 200px;max-width: 100%;overflow: auto;}#sk-container-id-1 input.sk-toggleable__control:checked~label.sk-toggleable__label-arrow:before {content: \"▾\";}#sk-container-id-1 div.sk-estimator input.sk-toggleable__control:checked~label.sk-toggleable__label {background-color: #d4ebff;}#sk-container-id-1 div.sk-label input.sk-toggleable__control:checked~label.sk-toggleable__label {background-color: #d4ebff;}#sk-container-id-1 input.sk-hidden--visually {border: 0;clip: rect(1px 1px 1px 1px);clip: rect(1px, 1px, 1px, 1px);height: 1px;margin: -1px;overflow: hidden;padding: 0;position: absolute;width: 1px;}#sk-container-id-1 div.sk-estimator {font-family: monospace;background-color: #f0f8ff;border: 1px dotted black;border-radius: 0.25em;box-sizing: border-box;margin-bottom: 0.5em;}#sk-container-id-1 div.sk-estimator:hover {background-color: #d4ebff;}#sk-container-id-1 div.sk-parallel-item::after {content: \"\";width: 100%;border-bottom: 1px solid gray;flex-grow: 1;}#sk-container-id-1 div.sk-label:hover label.sk-toggleable__label {background-color: #d4ebff;}#sk-container-id-1 div.sk-serial::before {content: \"\";position: absolute;border-left: 1px solid gray;box-sizing: border-box;top: 0;bottom: 0;left: 50%;z-index: 0;}#sk-container-id-1 div.sk-serial {display: flex;flex-direction: column;align-items: center;background-color: white;padding-right: 0.2em;padding-left: 0.2em;position: relative;}#sk-container-id-1 div.sk-item {position: relative;z-index: 1;}#sk-container-id-1 div.sk-parallel {display: flex;align-items: stretch;justify-content: center;background-color: white;position: relative;}#sk-container-id-1 div.sk-item::before, #sk-container-id-1 div.sk-parallel-item::before {content: \"\";position: absolute;border-left: 1px solid gray;box-sizing: border-box;top: 0;bottom: 0;left: 50%;z-index: -1;}#sk-container-id-1 div.sk-parallel-item {display: flex;flex-direction: column;z-index: 1;position: relative;background-color: white;}#sk-container-id-1 div.sk-parallel-item:first-child::after {align-self: flex-end;width: 50%;}#sk-container-id-1 div.sk-parallel-item:last-child::after {align-self: flex-start;width: 50%;}#sk-container-id-1 div.sk-parallel-item:only-child::after {width: 0;}#sk-container-id-1 div.sk-dashed-wrapped {border: 1px dashed gray;margin: 0 0.4em 0.5em 0.4em;box-sizing: border-box;padding-bottom: 0.4em;background-color: white;}#sk-container-id-1 div.sk-label label {font-family: monospace;font-weight: bold;display: inline-block;line-height: 1.2em;}#sk-container-id-1 div.sk-label-container {text-align: center;}#sk-container-id-1 div.sk-container {/* jupyter's `normalize.less` sets `[hidden] { display: none; }` but bootstrap.min.css set `[hidden] { display: none !important; }` so we also need the `!important` here to be able to override the default hidden behavior on the sphinx rendered scikit-learn.org. See: https://github.com/scikit-learn/scikit-learn/issues/21755 */display: inline-block !important;position: relative;}#sk-container-id-1 div.sk-text-repr-fallback {display: none;}</style><div id=\"sk-container-id-1\" class=\"sk-top-container\"><div class=\"sk-text-repr-fallback\"><pre>GridSearchCV(cv=3, estimator=KNeighborsClassifier(), n_jobs=-1,\n",
       "             param_grid={&#x27;n_neighbors&#x27;: array([ 1,  2,  3,  4,  5,  6,  7,  8,  9, 10, 11, 12, 13, 14, 15])},\n",
       "             scoring=&#x27;average_precision&#x27;, verbose=3)</pre><b>In a Jupyter environment, please rerun this cell to show the HTML representation or trust the notebook. <br />On GitHub, the HTML representation is unable to render, please try loading this page with nbviewer.org.</b></div><div class=\"sk-container\" hidden><div class=\"sk-item sk-dashed-wrapped\"><div class=\"sk-label-container\"><div class=\"sk-label sk-toggleable\"><input class=\"sk-toggleable__control sk-hidden--visually\" id=\"sk-estimator-id-1\" type=\"checkbox\" ><label for=\"sk-estimator-id-1\" class=\"sk-toggleable__label sk-toggleable__label-arrow\">GridSearchCV</label><div class=\"sk-toggleable__content\"><pre>GridSearchCV(cv=3, estimator=KNeighborsClassifier(), n_jobs=-1,\n",
       "             param_grid={&#x27;n_neighbors&#x27;: array([ 1,  2,  3,  4,  5,  6,  7,  8,  9, 10, 11, 12, 13, 14, 15])},\n",
       "             scoring=&#x27;average_precision&#x27;, verbose=3)</pre></div></div></div><div class=\"sk-parallel\"><div class=\"sk-parallel-item\"><div class=\"sk-item\"><div class=\"sk-label-container\"><div class=\"sk-label sk-toggleable\"><input class=\"sk-toggleable__control sk-hidden--visually\" id=\"sk-estimator-id-2\" type=\"checkbox\" ><label for=\"sk-estimator-id-2\" class=\"sk-toggleable__label sk-toggleable__label-arrow\">estimator: KNeighborsClassifier</label><div class=\"sk-toggleable__content\"><pre>KNeighborsClassifier()</pre></div></div></div><div class=\"sk-serial\"><div class=\"sk-item\"><div class=\"sk-estimator sk-toggleable\"><input class=\"sk-toggleable__control sk-hidden--visually\" id=\"sk-estimator-id-3\" type=\"checkbox\" ><label for=\"sk-estimator-id-3\" class=\"sk-toggleable__label sk-toggleable__label-arrow\">KNeighborsClassifier</label><div class=\"sk-toggleable__content\"><pre>KNeighborsClassifier()</pre></div></div></div></div></div></div></div></div></div></div>"
      ],
      "text/plain": [
       "GridSearchCV(cv=3, estimator=KNeighborsClassifier(), n_jobs=-1,\n",
       "             param_grid={'n_neighbors': array([ 1,  2,  3,  4,  5,  6,  7,  8,  9, 10, 11, 12, 13, 14, 15])},\n",
       "             scoring='average_precision', verbose=3)"
      ]
     },
     "execution_count": 6,
     "metadata": {},
     "output_type": "execute_result"
    }
   ],
   "source": [
    "# %%time\n",
    "\n",
    "# knn = KNeighborsClassifier()\n",
    "\n",
    "# param_grid = {'n_neighbors': np.arange(1, 16)}\n",
    "\n",
    "# knn_gscv = GridSearchCV(estimator=knn,\n",
    "#                         param_grid=param_grid,\n",
    "#                         scoring='average_precision',\n",
    "#                         cv=3,\n",
    "#                         n_jobs=-1,\n",
    "#                         verbose=3)\n",
    "\n",
    "# knn_gscv.fit(X_train_strat, y_train_strat['Class'])"
   ]
  },
  {
   "cell_type": "code",
   "execution_count": 7,
   "id": "4e2980f9-8d8d-40e9-93ac-41898207e67b",
   "metadata": {},
   "outputs": [
    {
     "data": {
      "text/plain": [
       "{'n_neighbors': 6}"
      ]
     },
     "execution_count": 7,
     "metadata": {},
     "output_type": "execute_result"
    }
   ],
   "source": [
    "# knn_gscv.best_params_"
   ]
  },
  {
   "cell_type": "code",
   "execution_count": 6,
   "id": "0772784d-adfd-4e6a-b7db-c5e3e75f16d6",
   "metadata": {
    "colab": {
     "base_uri": "https://localhost:8080/",
     "height": 467
    },
    "id": "pcK2OTWOw2_1",
    "outputId": "41bba6d7-3595-46c5-e385-b7d5c678f4db"
   },
   "outputs": [
    {
     "name": "stdout",
     "output_type": "stream",
     "text": [
      "KNeighborsClassifier(n_neighbors=6)\n",
      "Confusion Matrix\n",
      "[[85280    15]\n",
      " [   34   114]]\n",
      "              precision    recall  f1-score   support\n",
      "\n",
      "           0       1.00      1.00      1.00     85295\n",
      "           1       0.88      0.77      0.82       148\n",
      "\n",
      "    accuracy                           1.00     85443\n",
      "   macro avg       0.94      0.89      0.91     85443\n",
      "weighted avg       1.00      1.00      1.00     85443\n",
      "\n"
     ]
    }
   ],
   "source": [
    "knn1 = KNeighborsClassifier(n_neighbors=6) # instantiate the K-Nearest Neighbors classifier\n",
    "print(knn1)\n",
    "\n",
    "clf1 = knn1.fit(X_train_strat, y_train_strat['Class']) # fit the classifier to the imbalanced data\n",
    "pred1 = clf1.predict(X_test_strat) # predict on the training data\n",
    "\n",
    "y_score1 = clf1.predict_proba(X_test_strat)[:, 1]\n",
    "\n",
    "# Confusion Matrix\n",
    "print(f'Confusion Matrix\\n{confusion_matrix(y_test_strat, pred1)}')# Accuracy\n",
    "print(classification_report(y_test_strat, pred1))"
   ]
  },
  {
   "cell_type": "markdown",
   "id": "5696cd33-8924-4bac-be1b-7c145f1981d5",
   "metadata": {
    "id": "JyxcuF0R9-Ku"
   },
   "source": [
    "#### 4.2.2 Over Sampling"
   ]
  },
  {
   "cell_type": "code",
   "execution_count": 7,
   "id": "3b31ad8d-ac16-4cf1-ba68-e28a83448a89",
   "metadata": {},
   "outputs": [],
   "source": [
    "# %%time\n",
    "\n",
    "# knn = KNeighborsClassifier()\n",
    "\n",
    "# param_grid = {'n_neighbors': np.arange(1,16)}\n",
    "\n",
    "# knn_gscv = GridSearchCV(estimator=knn,\n",
    "#                         param_grid=param_grid,\n",
    "#                         scoring='average_precision',\n",
    "#                         cv=3,\n",
    "#                         n_jobs=-1,\n",
    "#                         verbose=2)\n",
    "\n",
    "# knn_gscv.fit(X_train_os, y_train_os['Class'])\n",
    "\n",
    "# knn_gscv.best_params_"
   ]
  },
  {
   "cell_type": "code",
   "execution_count": 8,
   "id": "f006f01a-bfaf-4a41-99f3-bf0d40790d34",
   "metadata": {
    "id": "f89k-3fL9-9P"
   },
   "outputs": [
    {
     "name": "stdout",
     "output_type": "stream",
     "text": [
      "Confusion Matrix\n",
      "[[281412   2657]\n",
      " [    38    208]]\n",
      "              precision    recall  f1-score   support\n",
      "\n",
      "           0       1.00      0.99      1.00    284069\n",
      "           1       0.07      0.85      0.13       246\n",
      "\n",
      "    accuracy                           0.99    284315\n",
      "   macro avg       0.54      0.92      0.56    284315\n",
      "weighted avg       1.00      0.99      0.99    284315\n",
      "\n"
     ]
    }
   ],
   "source": [
    "knn2 = KNeighborsClassifier(n_neighbors=14) # instantiate the K-Nearest Neighbors classifier\n",
    "clf2 = knn2.fit(X_train_os, y_train_os['Class']) # fit the classifier to the imbalanced data\n",
    "pred2 = clf2.predict(X_test_os) # predict on the training data\n",
    "\n",
    "y_score2 = clf2.predict_proba(X_test_os)[:, 1]\n",
    "\n",
    "# Confusion Matrix\n",
    "print(f'Confusion Matrix\\n{confusion_matrix(y_test_os, pred2)}')# Accuracy\n",
    "print(classification_report(y_test_os, pred2))"
   ]
  },
  {
   "cell_type": "markdown",
   "id": "7c2f5ba9-0f29-4f8f-a938-a0ea2271177e",
   "metadata": {
    "id": "_B8zAcse-Aup"
   },
   "source": [
    "#### 4.2.3 Over Sampling (SMOTE)"
   ]
  },
  {
   "cell_type": "code",
   "execution_count": 9,
   "id": "c8cb1957-2bf6-43db-889f-e21ab253a58d",
   "metadata": {},
   "outputs": [],
   "source": [
    "# %%time\n",
    "\n",
    "# knn = KNeighborsClassifier()\n",
    "\n",
    "# param_grid = {'n_neighbors': np.arange(1,16)}\n",
    "\n",
    "# knn_gscv = GridSearchCV(estimator=knn,\n",
    "#                         param_grid=param_grid,\n",
    "#                         scoring='average_precision',\n",
    "#                         cv=3,\n",
    "#                         n_jobs=-1,\n",
    "#                         verbose=2)\n",
    "\n",
    "# knn_gscv.fit(X_train_smote, y_train_smote['Class'])\n",
    "\n",
    "# knn_gscv.best_params_"
   ]
  },
  {
   "cell_type": "code",
   "execution_count": 10,
   "id": "e9b94d77-4a0f-415a-a87d-4bd5700d22bb",
   "metadata": {
    "id": "gQVPbDG3-BW5"
   },
   "outputs": [
    {
     "name": "stdout",
     "output_type": "stream",
     "text": [
      "[[84966   329]\n",
      " [   26   122]]\n",
      "              precision    recall  f1-score   support\n",
      "\n",
      "           0       1.00      1.00      1.00     85295\n",
      "           1       0.27      0.82      0.41       148\n",
      "\n",
      "    accuracy                           1.00     85443\n",
      "   macro avg       0.64      0.91      0.70     85443\n",
      "weighted avg       1.00      1.00      1.00     85443\n",
      "\n"
     ]
    }
   ],
   "source": [
    "knn3 = KNeighborsClassifier(n_neighbors=15) # instantiate the K-Nearest Neighbors classifier\n",
    "\n",
    "clf3 = knn3.fit(X_train_smote, y_train_smote['Class']) # fit the classifier to the imbalanced data\n",
    "pred3 = clf3.predict(X_test_smote) # predict on the training data\n",
    "\n",
    "y_score3 = clf3.predict_proba(X_test_smote)[:, 1]\n",
    "\n",
    "# Confusion Matrix\n",
    "print(confusion_matrix(y_test_smote, pred3))# Accuracy\n",
    "print(classification_report(y_test_smote, pred3))"
   ]
  },
  {
   "cell_type": "markdown",
   "id": "eb430c21-53d9-4962-87d7-a02a1d3f8a60",
   "metadata": {},
   "source": [
    "### KNN Classifier Summary:\n",
    "\n",
    "KNN Classifier trained on\n",
    "- stratified random sampling: clf1\n",
    "- over sampling (default): clf2\n",
    "- over sampling (SMOTE): clf3\n",
    "\n",
    "1. clf-1(k=6) seems to work best among all 3 variants with an f1-score of 0.82\n",
    "2. clf-2(k=14) performs the worst. This is probably due to very less training data.\n",
    "3. clf-3(k=) has higher recall than clf1 but has very less precision."
   ]
  },
  {
   "cell_type": "markdown",
   "id": "b5bb9d34-ed89-4581-a50b-4ab2be86fa3b",
   "metadata": {
    "id": "3KiSXYrp4Gi8"
   },
   "source": [
    "### 4.3 Random Forest"
   ]
  },
  {
   "cell_type": "markdown",
   "id": "5911b8f1-64ca-4411-849b-0f3816bbd93a",
   "metadata": {
    "id": "6ao5-VQD80T3"
   },
   "source": [
    "###### 4.3.1 Stratified Random Sampling"
   ]
  },
  {
   "cell_type": "code",
   "execution_count": 11,
   "id": "d8fbe49d-bcf1-4322-b49e-d316756563a3",
   "metadata": {
    "colab": {
     "base_uri": "https://localhost:8080/"
    },
    "id": "OvIkzseX82u-",
    "outputId": "6ba5156f-0aa7-4728-a6ca-7df78ba9107b"
   },
   "outputs": [
    {
     "name": "stdout",
     "output_type": "stream",
     "text": [
      "RandomForestClassifier(max_depth=10, n_jobs=-1, random_state=23)\n",
      "[[85282    13]\n",
      " [   32   116]]\n",
      "              precision    recall  f1-score   support\n",
      "\n",
      "           0       1.00      1.00      1.00     85295\n",
      "           1       0.90      0.78      0.84       148\n",
      "\n",
      "    accuracy                           1.00     85443\n",
      "   macro avg       0.95      0.89      0.92     85443\n",
      "weighted avg       1.00      1.00      1.00     85443\n",
      "\n"
     ]
    }
   ],
   "source": [
    "clf1 = RandomForestClassifier(max_depth = 10, random_state = 23, n_jobs=-1)\n",
    "print(clf1)\n",
    "\n",
    "clf1.fit(X_train_strat,y_train_strat['Class'])\n",
    "pred1 = clf1.predict(X_test_strat)\n",
    "\n",
    "y_score1 = clf1.predict_proba(X_test_strat)[:, 1]\n",
    "\n",
    "# Confusion Matrix\n",
    "print(confusion_matrix(y_test_strat, pred1))# Accuracy\n",
    "print(classification_report(y_test_strat, pred1))"
   ]
  },
  {
   "cell_type": "markdown",
   "id": "0e23da5f-0f75-465f-b8f7-1cdc5c983ea4",
   "metadata": {
    "id": "r5JFjCQ_84AQ"
   },
   "source": [
    "#### 4.3.2 Over Sampling"
   ]
  },
  {
   "cell_type": "code",
   "execution_count": 12,
   "id": "8fcaa268-1c26-45dc-9e11-cab2a2ea8bca",
   "metadata": {
    "id": "Ij-Ccbrc86RQ"
   },
   "outputs": [
    {
     "name": "stdout",
     "output_type": "stream",
     "text": [
      "[[277540   6529]\n",
      " [    16    230]]\n",
      "              precision    recall  f1-score   support\n",
      "\n",
      "           0       1.00      0.98      0.99    284069\n",
      "           1       0.03      0.93      0.07       246\n",
      "\n",
      "    accuracy                           0.98    284315\n",
      "   macro avg       0.52      0.96      0.53    284315\n",
      "weighted avg       1.00      0.98      0.99    284315\n",
      "\n"
     ]
    }
   ],
   "source": [
    "clf2 = RandomForestClassifier(max_depth = 10, random_state = 23, n_jobs=-1)\n",
    "clf2.fit(X_train_os,y_train_os['Class'])\n",
    "pred2 = clf2.predict(X_test_os)\n",
    "\n",
    "y_score2 = clf2.predict_proba(X_test_os)[:, 1]\n",
    "\n",
    "# Confusion Matrix\n",
    "print(confusion_matrix(y_test_os, pred2))# Accuracy\n",
    "print(classification_report(y_test_os, pred2))"
   ]
  },
  {
   "cell_type": "markdown",
   "id": "4af97107-68ed-4862-9d50-306cc7c7eaac",
   "metadata": {
    "id": "i5ga_zNZ88qn"
   },
   "source": [
    "#### 4.3.3 Over Sampling(`SMOTE`)"
   ]
  },
  {
   "cell_type": "code",
   "execution_count": 26,
   "id": "9178c70d-f309-46ed-b046-b0da5ad13a3c",
   "metadata": {
    "id": "TWwc1Udo8_NW"
   },
   "outputs": [
    {
     "name": "stdout",
     "output_type": "stream",
     "text": [
      "[[85244    51]\n",
      " [   29   119]]\n",
      "              precision    recall  f1-score   support\n",
      "\n",
      "           0       1.00      1.00      1.00     85295\n",
      "           1       0.70      0.80      0.75       148\n",
      "\n",
      "    accuracy                           1.00     85443\n",
      "   macro avg       0.85      0.90      0.87     85443\n",
      "weighted avg       1.00      1.00      1.00     85443\n",
      "\n"
     ]
    }
   ],
   "source": [
    "clf3 = RandomForestClassifier(max_depth = 15, random_state = 23, n_jobs=-1)\n",
    "clf3.fit(X_train_smote,y_train_smote['Class'])\n",
    "pred3 = clf3.predict(X_test_smote)\n",
    "\n",
    "y_score3 = clf3.predict_proba(X_test_smote)[:, 1]\n",
    "\n",
    "# Confusion Matrix\n",
    "print(confusion_matrix(y_test_smote, pred3))# Accuracy\n",
    "print(classification_report(y_test_smote, pred3))"
   ]
  },
  {
   "cell_type": "markdown",
   "id": "1daee18c-74d8-430d-baca-a507f7b89151",
   "metadata": {},
   "source": [
    "### Random Forest Summary:\n",
    "\n",
    "- Random Forest Classifier trained on\n",
    "    - stratified random sampling: clf-1\n",
    "    - over sampling (default): clf-2\n",
    "    - over sampling (SMOTE): clf-3\n",
    "\n",
    "1. clf-1 seems to work best among all 3 variants. It has highest precision(0.90), f1-score(0.84) and auprc of 0.81.\n",
    "2. clf-2 has the best recall(0.93) but also worst precision(0.03) and f1-score(0.07). This is probably due to very less training data.\n",
    "3. clf-3 has higher recall(0.82) than clf1(0.78) but has lower precision(0.54)."
   ]
  },
  {
   "cell_type": "markdown",
   "id": "51136876-b043-41ae-81d1-ed4bced7808f",
   "metadata": {
    "id": "q9E3gGoF-ctS"
   },
   "source": [
    "### 4.4 Decision Tree"
   ]
  },
  {
   "cell_type": "markdown",
   "id": "a27fe5b8-1919-45f2-af7b-90f1ef914e2b",
   "metadata": {
    "id": "FCT94dZG-i8l"
   },
   "source": [
    "###### 4.4.1 Stratified Random Sampling"
   ]
  },
  {
   "cell_type": "code",
   "execution_count": 14,
   "id": "227044f3-0568-423c-a85e-c14fc9886a66",
   "metadata": {
    "colab": {
     "base_uri": "https://localhost:8080/"
    },
    "id": "TD-iMoX5-l78",
    "outputId": "e756249c-5755-4c7e-be39-12a181f26329"
   },
   "outputs": [
    {
     "name": "stdout",
     "output_type": "stream",
     "text": [
      "DecisionTreeClassifier(max_depth=10, random_state=23)\n",
      "[[85273    22]\n",
      " [   38   110]]\n",
      "              precision    recall  f1-score   support\n",
      "\n",
      "           0       1.00      1.00      1.00     85295\n",
      "           1       0.83      0.74      0.79       148\n",
      "\n",
      "    accuracy                           1.00     85443\n",
      "   macro avg       0.92      0.87      0.89     85443\n",
      "weighted avg       1.00      1.00      1.00     85443\n",
      "\n"
     ]
    }
   ],
   "source": [
    "clf1 = DecisionTreeClassifier(random_state=23, max_depth=10)\n",
    "print(clf1)\n",
    "clf1.fit(X_train_strat,y_train_strat)\n",
    "pred1 = clf1.predict(X_test_strat)\n",
    "\n",
    "y_score1 = clf1.predict_proba(X_test_strat)[:, 1]\n",
    "\n",
    "# Confusion Matrix\n",
    "print(confusion_matrix(y_test_strat, pred1))# Accuracy\n",
    "print(classification_report(y_test_strat, pred1))"
   ]
  },
  {
   "cell_type": "markdown",
   "id": "05774862-c122-4f65-beb9-a06c97d57346",
   "metadata": {
    "id": "7G2iC8zB-ohE"
   },
   "source": [
    "###### 4.4.2 Over Sampling"
   ]
  },
  {
   "cell_type": "code",
   "execution_count": 15,
   "id": "d9fd6b2f-917b-469d-b83f-82e226ea17b6",
   "metadata": {
    "id": "MFmDTYCY-rFQ"
   },
   "outputs": [
    {
     "name": "stdout",
     "output_type": "stream",
     "text": [
      "[[256784  27285]\n",
      " [    15    231]]\n",
      "              precision    recall  f1-score   support\n",
      "\n",
      "           0       1.00      0.90      0.95    284069\n",
      "           1       0.01      0.94      0.02       246\n",
      "\n",
      "    accuracy                           0.90    284315\n",
      "   macro avg       0.50      0.92      0.48    284315\n",
      "weighted avg       1.00      0.90      0.95    284315\n",
      "\n"
     ]
    }
   ],
   "source": [
    "clf2 = DecisionTreeClassifier(random_state=23, max_depth=10)\n",
    "clf2.fit(X_train_os,y_train_os)\n",
    "pred2 = clf2.predict(X_test_os)\n",
    "\n",
    "y_score2 = clf2.predict_proba(X_test_os)[:, 1]\n",
    "\n",
    "# Confusion Matrix\n",
    "print(confusion_matrix(y_test_os, pred2))# Accuracy\n",
    "print(classification_report(y_test_os, pred2))"
   ]
  },
  {
   "cell_type": "markdown",
   "id": "4e66375e-251f-4d5f-8a60-24ec9e6cb544",
   "metadata": {
    "id": "Hru1x70--swt"
   },
   "source": [
    "###### 4.4.3 Over Sampling (SMOTE)"
   ]
  },
  {
   "cell_type": "code",
   "execution_count": 16,
   "id": "7624e4ad-77e4-40fc-9b6a-82b85089d9da",
   "metadata": {
    "id": "wxwmGP1B-u7f"
   },
   "outputs": [
    {
     "name": "stdout",
     "output_type": "stream",
     "text": [
      "[[84667   628]\n",
      " [   30   118]]\n",
      "              precision    recall  f1-score   support\n",
      "\n",
      "           0       1.00      0.99      1.00     85295\n",
      "           1       0.16      0.80      0.26       148\n",
      "\n",
      "    accuracy                           0.99     85443\n",
      "   macro avg       0.58      0.89      0.63     85443\n",
      "weighted avg       1.00      0.99      0.99     85443\n",
      "\n"
     ]
    }
   ],
   "source": [
    "clf3=DecisionTreeClassifier(random_state=23, max_depth=10)\n",
    "clf3.fit(X_train_smote,y_train_smote)\n",
    "pred3 = clf3.predict(X_test_smote)\n",
    "\n",
    "y_score3 = clf3.predict_proba(X_test_smote)[:, 1]\n",
    "\n",
    "# Confusion Matrix\n",
    "print(confusion_matrix(y_test_smote, pred3))# Accuracy\n",
    "print(classification_report(y_test_smote, pred3))"
   ]
  },
  {
   "cell_type": "markdown",
   "id": "cb86c52b-c60a-4741-bb9c-e7936880bb9a",
   "metadata": {},
   "source": [
    "### Decision Tree Classifier Summary:\n",
    "\n",
    "- Decision Tree Classifier trained on\n",
    "    - stratified random sampling: clf-1\n",
    "    - over sampling (default): clf-2\n",
    "    - over sampling (SMOTE): clf-3\n",
    "\n",
    "1. clf-1 seems to work best among all 3 variants. It has highest precision(0.83), f1-score(0.79) and auprc(0.62).\n",
    "2. clf-2 has the best recall(0.94) but also worst precision(0.01) and f1-score(0.02). This is probably due to very less training data.\n",
    "3. clf-3 has higher recall(0.80) than clf1(0.74) but has lower precision(0.16)."
   ]
  },
  {
   "cell_type": "markdown",
   "id": "506ffae4-5b67-424e-8a76-ca7b95439167",
   "metadata": {},
   "source": [
    "## Comparing all models on the 3 variants of the dataset"
   ]
  },
  {
   "cell_type": "markdown",
   "id": "fb0364c3-700a-4807-8758-f26396c0d71a",
   "metadata": {
    "id": "q42iSPFT7tw_"
   },
   "source": [
    "#### 1. AUPRC for stratified random sampling"
   ]
  },
  {
   "cell_type": "code",
   "execution_count": 17,
   "id": "d1717223-8e5e-4927-8ee6-bf4f79f83667",
   "metadata": {
    "id": "yFaEPLtBaa7m"
   },
   "outputs": [
    {
     "data": {
      "text/html": [
       "<div>\n",
       "<style scoped>\n",
       "    .dataframe tbody tr th:only-of-type {\n",
       "        vertical-align: middle;\n",
       "    }\n",
       "\n",
       "    .dataframe tbody tr th {\n",
       "        vertical-align: top;\n",
       "    }\n",
       "\n",
       "    .dataframe thead th {\n",
       "        text-align: right;\n",
       "    }\n",
       "</style>\n",
       "<table border=\"1\" class=\"dataframe\">\n",
       "  <thead>\n",
       "    <tr style=\"text-align: right;\">\n",
       "      <th></th>\n",
       "      <th>Recall</th>\n",
       "      <th>Precision</th>\n",
       "      <th>f1-score</th>\n",
       "      <th>Average Precision</th>\n",
       "    </tr>\n",
       "  </thead>\n",
       "  <tbody>\n",
       "    <tr>\n",
       "      <th>Linear Regression</th>\n",
       "      <td>0.635135</td>\n",
       "      <td>0.895238</td>\n",
       "      <td>0.743083</td>\n",
       "      <td>0.569229</td>\n",
       "    </tr>\n",
       "    <tr>\n",
       "      <th>KNN</th>\n",
       "      <td>0.770270</td>\n",
       "      <td>0.883721</td>\n",
       "      <td>0.823105</td>\n",
       "      <td>0.681102</td>\n",
       "    </tr>\n",
       "    <tr>\n",
       "      <th>Random Forest</th>\n",
       "      <td>0.783784</td>\n",
       "      <td>0.899225</td>\n",
       "      <td>0.837545</td>\n",
       "      <td>0.705172</td>\n",
       "    </tr>\n",
       "    <tr>\n",
       "      <th>Decision Tree</th>\n",
       "      <td>0.743243</td>\n",
       "      <td>0.833333</td>\n",
       "      <td>0.785714</td>\n",
       "      <td>0.619814</td>\n",
       "    </tr>\n",
       "  </tbody>\n",
       "</table>\n",
       "</div>"
      ],
      "text/plain": [
       "                     Recall  Precision  f1-score  Average Precision\n",
       "Linear Regression  0.635135   0.895238  0.743083           0.569229\n",
       "KNN                0.770270   0.883721  0.823105           0.681102\n",
       "Random Forest      0.783784   0.899225  0.837545           0.705172\n",
       "Decision Tree      0.743243   0.833333  0.785714           0.619814"
      ]
     },
     "execution_count": 17,
     "metadata": {},
     "output_type": "execute_result"
    }
   ],
   "source": [
    "lr01 = LogisticRegression()\n",
    "knn01 = KNeighborsClassifier(n_neighbors = 6)\n",
    "rf01 = RandomForestClassifier(max_depth = 10, random_state = 23, n_jobs=-1)\n",
    "dt01 = DecisionTreeClassifier(random_state = 23, max_depth = 10)\n",
    "\n",
    "lr01.fit(X_train_strat, y_train_strat['Class'])\n",
    "knn01.fit(X_train_strat, y_train_strat['Class'])\n",
    "rf01.fit(X_train_strat, y_train_strat['Class'])\n",
    "dt01.fit(X_train_strat, y_train_strat['Class'])\n",
    "\n",
    "y_hat_lr01 = lr01.predict(X_test_strat)\n",
    "y_hat_knn01 = knn01.predict(X_test_strat)\n",
    "y_hat_rf01 = rf01.predict(X_test_strat)\n",
    "y_hat_dt01 = dt01.predict(X_test_strat)\n",
    "\n",
    "r_lr01, p_lr01, f1_lr01, ap_lr01 = recall_score(y_test_strat, y_hat_lr01 ), precision_score(y_test_strat, y_hat_lr01), f1_score(y_test_strat, y_hat_lr01), average_precision_score(y_test_strat, y_hat_lr01)\n",
    "r_knn01, p_knn01, f1_knn01, ap_knn01 = recall_score(y_test_strat, y_hat_knn01), precision_score(y_test_strat, y_hat_knn01), f1_score(y_test_strat, y_hat_knn01), average_precision_score(y_test_strat, y_hat_knn01)\n",
    "r_rf01, p_rf01, f1_rf01, ap_rf01  = recall_score(y_test_strat, y_hat_rf01), precision_score(y_test_strat, y_hat_rf01), f1_score(y_test_strat, y_hat_rf01), average_precision_score(y_test_strat, y_hat_rf01)\n",
    "r_dt01, p_dt01, f1_dt01, ap_dt01  = recall_score(y_test_strat, y_hat_dt01), precision_score(y_test_strat, y_hat_dt01), f1_score(y_test_strat, y_hat_dt01), average_precision_score(y_test_strat, y_hat_dt01)\n",
    "\n",
    "data = {'Recall': [r_lr01, r_knn01, r_rf01, r_dt01],\n",
    "        'Precision': [p_lr01, p_knn01, p_rf01, p_dt01],\n",
    "        'f1-score': [f1_lr01, f1_knn01, f1_rf01, f1_dt01],\n",
    "        'Average Precision': [ap_lr01, ap_knn01, ap_rf01, ap_dt01]}\n",
    "\n",
    "results_df1 = pd.DataFrame(data = data, index = ['Logistic Regression', 'KNN', 'Random Forest', 'Decision Tree'])\n",
    "results_df1"
   ]
  },
  {
   "cell_type": "code",
   "execution_count": 18,
   "id": "c136c609-9c36-432e-ac16-501bd239ec0b",
   "metadata": {},
   "outputs": [
    {
     "data": {
      "image/png": "[encoded data removed]",
      "text/plain": [
       "<Figure size 432x288 with 1 Axes>"
      ]
     },
     "metadata": {},
     "output_type": "display_data"
    }
   ],
   "source": [
    "display = PrecisionRecallDisplay.from_predictions(y_test_strat, y_hat_lr01, ax = plt.gca(), name='Logistic Regression')\n",
    "display = PrecisionRecallDisplay.from_predictions(y_test_strat, y_hat_knn01,  ax = plt.gca(),name='KNN Classifier')\n",
    "display = PrecisionRecallDisplay.from_predictions(y_test_strat, y_hat_rf01,  ax = plt.gca(),name='Random Forest Classifier')\n",
    "display = PrecisionRecallDisplay.from_predictions(y_test_strat, y_hat_dt01,  ax = plt.gca(),name='Decision Tree Classifier')\n",
    "\n",
    "_ = display.ax_.set_title('Precision-Recall curve - Stratified Random Sampling')"
   ]
  },
  {
   "cell_type": "markdown",
   "id": "3d4b5990-15b3-40cc-8987-371937f29a44",
   "metadata": {
    "id": "tytTDvAb75IX"
   },
   "source": [
    "#### 2. AUPRC for over sampling (default)"
   ]
  },
  {
   "cell_type": "code",
   "execution_count": 30,
   "id": "45ffd353-336f-4ff4-b27e-d565acc58876",
   "metadata": {
    "id": "1oFdOccCBPnt"
   },
   "outputs": [
    {
     "data": {
      "text/html": [
       "<div>\n",
       "<style scoped>\n",
       "    .dataframe tbody tr th:only-of-type {\n",
       "        vertical-align: middle;\n",
       "    }\n",
       "\n",
       "    .dataframe tbody tr th {\n",
       "        vertical-align: top;\n",
       "    }\n",
       "\n",
       "    .dataframe thead th {\n",
       "        text-align: right;\n",
       "    }\n",
       "</style>\n",
       "<table border=\"1\" class=\"dataframe\">\n",
       "  <thead>\n",
       "    <tr style=\"text-align: right;\">\n",
       "      <th></th>\n",
       "      <th>Recall</th>\n",
       "      <th>Precision</th>\n",
       "      <th>f1-score</th>\n",
       "    </tr>\n",
       "  </thead>\n",
       "  <tbody>\n",
       "    <tr>\n",
       "      <th>Logistic Regression</th>\n",
       "      <td>0.894309</td>\n",
       "      <td>0.019207</td>\n",
       "      <td>0.037607</td>\n",
       "    </tr>\n",
       "    <tr>\n",
       "      <th>KNN</th>\n",
       "      <td>0.845528</td>\n",
       "      <td>0.072600</td>\n",
       "      <td>0.133719</td>\n",
       "    </tr>\n",
       "    <tr>\n",
       "      <th>Random Forest</th>\n",
       "      <td>0.934959</td>\n",
       "      <td>0.034029</td>\n",
       "      <td>0.065667</td>\n",
       "    </tr>\n",
       "    <tr>\n",
       "      <th>Decision Tree</th>\n",
       "      <td>0.939024</td>\n",
       "      <td>0.008395</td>\n",
       "      <td>0.016641</td>\n",
       "    </tr>\n",
       "  </tbody>\n",
       "</table>\n",
       "</div>"
      ],
      "text/plain": [
       "                       Recall  Precision  f1-score\n",
       "Logistic Regression  0.894309   0.019207  0.037607\n",
       "KNN                  0.845528   0.072600  0.133719\n",
       "Random Forest        0.934959   0.034029  0.065667\n",
       "Decision Tree        0.939024   0.008395  0.016641"
      ]
     },
     "execution_count": 30,
     "metadata": {},
     "output_type": "execute_result"
    }
   ],
   "source": [
    "lr02 = LogisticRegression()\n",
    "knn02 = KNeighborsClassifier(n_neighbors = 14)\n",
    "rf02 = RandomForestClassifier(max_depth = 10, random_state = 23, n_jobs=-1)\n",
    "dt02 = DecisionTreeClassifier(random_state = 23, max_depth=10)\n",
    "\n",
    "lr02.fit(X_train_os, y_train_os['Class'])\n",
    "knn02.fit(X_train_os, y_train_os['Class'])\n",
    "rf02.fit(X_train_os, y_train_os['Class'])\n",
    "dt02.fit(X_train_os, y_train_os['Class'])\n",
    "\n",
    "y_hat_lr02 = lr02.predict(X_test_os)\n",
    "y_hat_knn02 = knn02.predict(X_test_os)\n",
    "y_hat_rf02 = rf02.predict(X_test_os)\n",
    "y_hat_dt02 = dt02.predict(X_test_os)\n",
    "\n",
    "r_lr02, p_lr02, f1_lr02 = recall_score(y_test_os, y_hat_lr02 ), precision_score(y_test_os, y_hat_lr02), f1_score(y_test_os, y_hat_lr02)\n",
    "r_knn02, p_knn02, f1_knn02 = recall_score(y_test_os, y_hat_knn02), precision_score(y_test_os, y_hat_knn02), f1_score(y_test_os, y_hat_knn02)\n",
    "r_rf02, p_rf02, f1_rf02  = recall_score(y_test_os, y_hat_rf02), precision_score(y_test_os, y_hat_rf02), f1_score(y_test_os, y_hat_rf02)\n",
    "r_dt02, p_dt02, f1_dt02  = recall_score(y_test_os, y_hat_dt02), precision_score(y_test_os, y_hat_dt02), f1_score(y_test_os, y_hat_dt02)\n",
    "\n",
    "data = {'Recall': [r_lr02, r_knn02, r_rf02, r_dt02],\n",
    "        'Precision': [p_lr02, p_knn02, p_rf02, p_dt02],\n",
    "        'f1-score': [f1_lr02, f1_knn02, f1_rf02, f1_dt02]}\n",
    "\n",
    "results_df2 = pd.DataFrame(data = data, index = ['Logistic Regression', 'KNN', 'Random Forest', 'Decision Tree'])\n",
    "results_df2"
   ]
  },
  {
   "cell_type": "code",
   "execution_count": 31,
   "id": "04e999b2-b9b9-458a-971c-c6dbcd29289b",
   "metadata": {},
   "outputs": [
    {
     "data": {
      "image/png": "[encoded data removed]",
      "text/plain": [
       "<Figure size 432x288 with 1 Axes>"
      ]
     },
     "metadata": {},
     "output_type": "display_data"
    }
   ],
   "source": [
    "display = PrecisionRecallDisplay.from_estimator(lr02, X_test_os, y_test_os, ax = plt.gca(), name='Logistic Regression')\n",
    "display = PrecisionRecallDisplay.from_estimator(knn02, X_test_os,  y_test_os,ax = plt.gca(),name='KNN Classifier')\n",
    "display = PrecisionRecallDisplay.from_estimator(rf02, X_test_os,  y_test_os,ax = plt.gca(),name='Random Forest Classifier')\n",
    "display = PrecisionRecallDisplay.from_estimator(dt02, X_test_os,  y_test_os,ax = plt.gca(),name='Decision Tree Classifier')\n",
    "\n",
    "_ = display.ax_.set_title('Precision-Recall curve - Stratified Random Sampling')"
   ]
  },
  {
   "cell_type": "markdown",
   "id": "370f8123-7ac1-4c22-9fde-aca4b9e87ebc",
   "metadata": {
    "id": "DSzzkNcc7_i5"
   },
   "source": [
    "#### 3. ROC curve for oversampling(SMOTE)"
   ]
  },
  {
   "cell_type": "code",
   "execution_count": 32,
   "id": "5cf4721b-3822-4738-aed3-8a5662530202",
   "metadata": {
    "id": "XCR4qaj38DKk"
   },
   "outputs": [
    {
     "data": {
      "text/html": [
       "<div>\n",
       "<style scoped>\n",
       "    .dataframe tbody tr th:only-of-type {\n",
       "        vertical-align: middle;\n",
       "    }\n",
       "\n",
       "    .dataframe tbody tr th {\n",
       "        vertical-align: top;\n",
       "    }\n",
       "\n",
       "    .dataframe thead th {\n",
       "        text-align: right;\n",
       "    }\n",
       "</style>\n",
       "<table border=\"1\" class=\"dataframe\">\n",
       "  <thead>\n",
       "    <tr style=\"text-align: right;\">\n",
       "      <th></th>\n",
       "      <th>Recall</th>\n",
       "      <th>Precision</th>\n",
       "      <th>f1-score</th>\n",
       "    </tr>\n",
       "  </thead>\n",
       "  <tbody>\n",
       "    <tr>\n",
       "      <th>Logistic Regression</th>\n",
       "      <td>0.871622</td>\n",
       "      <td>0.057435</td>\n",
       "      <td>0.107769</td>\n",
       "    </tr>\n",
       "    <tr>\n",
       "      <th>KNN</th>\n",
       "      <td>0.824324</td>\n",
       "      <td>0.270510</td>\n",
       "      <td>0.407346</td>\n",
       "    </tr>\n",
       "    <tr>\n",
       "      <th>Random Forest</th>\n",
       "      <td>0.804054</td>\n",
       "      <td>0.700000</td>\n",
       "      <td>0.748428</td>\n",
       "    </tr>\n",
       "    <tr>\n",
       "      <th>Decision Tree</th>\n",
       "      <td>0.797297</td>\n",
       "      <td>0.158177</td>\n",
       "      <td>0.263982</td>\n",
       "    </tr>\n",
       "  </tbody>\n",
       "</table>\n",
       "</div>"
      ],
      "text/plain": [
       "                       Recall  Precision  f1-score\n",
       "Logistic Regression  0.871622   0.057435  0.107769\n",
       "KNN                  0.824324   0.270510  0.407346\n",
       "Random Forest        0.804054   0.700000  0.748428\n",
       "Decision Tree        0.797297   0.158177  0.263982"
      ]
     },
     "execution_count": 32,
     "metadata": {},
     "output_type": "execute_result"
    }
   ],
   "source": [
    "lr03 = LogisticRegression()\n",
    "knn03 = KNeighborsClassifier(n_neighbors=15)\n",
    "rf03 = RandomForestClassifier(max_depth = 15, random_state = 23, n_jobs=-1)\n",
    "dt03 = DecisionTreeClassifier(random_state=23, max_depth=10)\n",
    "\n",
    "lr03.fit(X_train_smote, y_train_smote['Class'])\n",
    "knn03.fit(X_train_smote, y_train_smote['Class'])\n",
    "rf03.fit(X_train_smote, y_train_smote['Class'])\n",
    "dt03.fit(X_train_smote, y_train_smote['Class'])\n",
    "\n",
    "y_hat_lr03 = lr03.predict(X_test_smote)\n",
    "y_hat_knn03 = knn03.predict(X_test_smote)\n",
    "y_hat_rf03 = rf03.predict(X_test_smote)\n",
    "y_hat_dt03 = dt03.predict(X_test_smote)\n",
    "\n",
    "r_lr03, p_lr03, f1_lr03 = recall_score(y_test_smote, y_hat_lr03), precision_score(y_test_smote, y_hat_lr03), f1_score(y_test_smote, y_hat_lr03)\n",
    "r_knn03, p_knn03, f1_knn033 = recall_score(y_test_smote, y_hat_knn03), precision_score(y_test_smote, y_hat_knn03), f1_score(y_test_smote, y_hat_knn03)\n",
    "r_rf03, p_rf03, f1_rf03  = recall_score(y_test_smote, y_hat_rf03), precision_score(y_test_smote, y_hat_rf03), f1_score(y_test_smote, y_hat_rf03)\n",
    "r_dt03, p_dt03, f1_dt03  = recall_score(y_test_smote, y_hat_dt03), precision_score(y_test_smote, y_hat_dt03), f1_score(y_test_smote, y_hat_dt03)\n",
    "\n",
    "data = {'Recall': [r_lr03, r_knn03, r_rf03, r_dt03],\n",
    "        'Precision': [p_lr03, p_knn03, p_rf03, p_dt03],\n",
    "        'f1-score': [f1_lr03, f1_knn03, f1_rf03, f1_dt03]}\n",
    "\n",
    "results_df3 = pd.DataFrame(data = data, index = ['Logistic Regression', 'KNN', 'Random Forest', 'Decision Tree'])\n",
    "results_df3"
   ]
  },
  {
   "cell_type": "code",
   "execution_count": 33,
   "id": "2f33f0dd-1da5-4415-a2b1-9c39d70ee00a",
   "metadata": {},
   "outputs": [
    {
     "data": {
      "image/png": "[encoded data removed]",
      "text/plain": [
       "<Figure size 432x288 with 1 Axes>"
      ]
     },
     "metadata": {},
     "output_type": "display_data"
    }
   ],
   "source": [
    "display = PrecisionRecallDisplay.from_estimator(lr03, X_test_smote, y_test_smote, ax = plt.gca(), name='Logistic Regression')\n",
    "display = PrecisionRecallDisplay.from_estimator(knn03, X_test_smote,  y_test_smote,ax = plt.gca(),name='KNN Classifier')\n",
    "display = PrecisionRecallDisplay.from_estimator(rf03, X_test_smote,  y_test_smote,ax = plt.gca(),name='Random Forest Classifier')\n",
    "display = PrecisionRecallDisplay.from_estimator(dt03, X_test_smote,  y_test_smote,ax = plt.gca(),name='Decision Tree Classifier')\n",
    "\n",
    "_ = display.ax_.set_title('Precision-Recall curve - Stratified Random Sampling')"
   ]
  },
  {
   "cell_type": "markdown",
   "id": "44085e02-e671-4d70-b90d-824f530ee075",
   "metadata": {},
   "source": [
    "### Summary\n",
    "\n",
    "##### Business Goal-1: Minimizing False Negatives(Focus is to capture max # Fradulent Transactions) -> High Recall\n",
    "- In this case, we are ok with flagging normal transactions as fradulent transactions, but it's more costly to miss a fraudulent transaction.\n",
    "- We send all fraudulent transactions to next round of human inspection where false positives are filtered out. \n",
    "- But, if we miss capturing a fradulent transaction, there is no way to mitigate it.\n",
    "\n",
    "##### Business Goal-2: Minimizing False Positives(Focus is to correctly predict Fraudulent Transactions) -> High Precision \n",
    "- In this case, we are ok with not capturing some fradulent transactions, but it's more costly to falsely label a normal transaction as a fraudulent transaction.\n",
    "- Here, cost of human inspection is more than the cost of missing to capture a fraudulent transaction.\n",
    "     \n",
    "##### Business Goal-3: We care a lot about finding the positive examples -> High AUPRC or Average Precision\n",
    "- We want our model to correctly label max # of fradulent transactions (high recall) without accidentally marking any normal transactions as fradulent(high precision). The `average precision` is one particular method for calculating the AUPRC. \n",
    "\n",
    "1. For Business Goal-1, `Random Forest Classifier` seems to be better suited with the highest recall of 0.78 on the Fradulent Class.\n",
    "2. For Business Goal-2 also, `Random Forest Classifier` seems to be better suited with the highest recall of 0.90 on the Fradulent Class.\n",
    "3. For Business Goal-3 also, `Random Forest Classifier` seems to be better suited with the highest recall of 0.71 on the Fradulent Class."
   ]
  }
 ],
 "metadata": {
  "kernelspec": {
   "display_name": "Python 3 (ipykernel)",
   "language": "python",
   "name": "python3"
  },
  "language_info": {
   "codemirror_mode": {
    "name": "ipython",
    "version": 3
   },
   "file_extension": ".py",
   "mimetype": "text/x-python",
   "name": "python",
   "nbconvert_exporter": "python",
   "pygments_lexer": "ipython3",
   "version": "3.9.12"
  }
 },
 "nbformat": 4,
 "nbformat_minor": 5
}
